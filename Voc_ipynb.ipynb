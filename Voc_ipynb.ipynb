{
  "cells": [
    {
      "cell_type": "code",
      "execution_count": 1,
      "metadata": {
        "id": "V3-kZ-Po75lE"
      },
      "outputs": [],
      "source": [
        "import time\n",
        "import numpy as np\n",
        "import requests as rq\n",
        "import pandas as pd\n",
        "from bs4 import BeautifulSoup\n",
        "from google.colab import files"
      ]
    },
    {
      "cell_type": "code",
      "execution_count": 2,
      "metadata": {
        "id": "9W6gt63i21N3"
      },
      "outputs": [],
      "source": [
        "# ToDict Port\n",
        "def data_search(word: str): #dict\n",
        "  word = word.lower()\n",
        "  url = \"https://dictionary.cambridge.org/zht/%E8%A9%9E%E5%85%B8/%E8%8B%B1%E8%AA%9E-%E6%BC%A2%E8%AA%9E-%E7%B9%81%E9%AB%94/\" + word\n",
        "  headers = {\n",
        "    \"content-type\": \"text/html; charset=UTF-8\",\n",
        "    \"user-agent\" : \"Mozilla/5.0 (Windows NT 10.0; Win64; x64) AppleWebKit/537.36(KHTML, like Gecko) Chrome/76.0.3809.132 Safari/537.36\"}\n",
        "  content = rq.get(url, headers=headers).text\n",
        "  soup = BeautifulSoup(content, \"html.parser\")\n",
        "  if word.count(\" \"): # phrase\n",
        "    divSet = soup.find_all(\"div\", {\"class\": \"pv-block\"})\n",
        "  else: # voc\n",
        "    divSet = soup.find_all(\"div\", {\"class\": \"pr entry-body__el\"})\n",
        "\n",
        "  data = {}\n",
        "  for div in divSet:\n",
        "    POS = div.find(\"span\", {\"class\": \"pos dpos\"}).string\n",
        "    meanSet = div.find_all(\"span\", {\"class\": \"trans dtrans dtrans-se break-cj\"})\n",
        "    meanSet = [mean.text.replace(\";\", \"，\").split(\"，\") for mean in meanSet]\n",
        "    for mean in meanSet:\n",
        "      data.setdefault(POS, []).extend(mean)\n",
        "\n",
        "  #idiom\n",
        "  divSet = soup.find_all(\"div\", {\"class\": \"pr idiom-block\"})\n",
        "  for div in divSet:\n",
        "    POS = \"idiom\"\n",
        "    meanSet = div.find_all(\"span\", {\"class\": \"trans dtrans dtrans-se break-cj\"})\n",
        "    meanSet = [mean.string.replace(\";\", \"，\").split(\"，\") for mean in meanSet]\n",
        "    for mean in meanSet:\n",
        "      data.setdefault(POS, []).extend(mean)\n",
        "  return data\n",
        "\n",
        "def user_search(word: str): #void\n",
        "  data = data_search(word)\n",
        "  for POS, MeanSet in data.items():\n",
        "    print(f\"  {POS}\")\n",
        "    print(f\"    {' / '.join(MeanSet)}\")"
      ]
    },
    {
      "cell_type": "code",
      "execution_count": 3,
      "metadata": {
        "id": "k28BWa_9vCkF"
      },
      "outputs": [],
      "source": [
        "# ToInput Port\n",
        "class Voc:\n",
        "  def __init__(self, word: str, pos: str, mean: str):\n",
        "    self.word = word\n",
        "    self.pos = pos\n",
        "    self.mean = mean\n",
        "\n",
        "  def show(self):\n",
        "    print(f\"{self.word}: <{self.pos}>\\n\\t {self.mean}\")\n",
        "\n",
        "  def toList(self): #list\n",
        "    return [self.word, self.pos, self.mean]\n",
        "\n",
        "def dismantle(word: str): #list<Voc>\n",
        "  result = []\n",
        "  curVoc = data_search(word)\n",
        "  leng = len(curVoc);\n",
        "  for pos, mean in curVoc.items():\n",
        "    result.append(Voc(word, pos, \"/\".join(mean)))\n",
        "  return result\n",
        "\n",
        "def selection(mean: str): #str\n",
        "  result = []\n",
        "  meanSet = mean.split(\"/\")\n",
        "  if len(meanSet) < 5: return mean\n",
        "  theKept = input()\n",
        "  for idx in range(len(meanSet)):\n",
        "    try:\n",
        "      if theKept[idx] == \"0\": continue\n",
        "      result.append(meanSet[idx])\n",
        "    except:\n",
        "      result.append(meanSet[idx])\n",
        "  return \"/\".join(result)\n",
        "\n",
        "def typein(): #list<Voc>\n",
        "  vocSet = []\n",
        "  error = []\n",
        "  while True:\n",
        "    try:\n",
        "      order = input().lower()\n",
        "      if order == \"!\": break\n",
        "      if order == \"<\": vocSet.pop()\n",
        "      vocData = dismantle(order)\n",
        "      if vocData == []: error.append(order)\n",
        "      vocSet.extend(vocData)\n",
        "    except:\n",
        "      break\n",
        "  if error != []: print(error)\n",
        "  return vocSet"
      ]
    },
    {
      "cell_type": "code",
      "execution_count": 4,
      "metadata": {
        "id": "2YJh5xmxOPkJ"
      },
      "outputs": [],
      "source": [
        "#To DataBase Port\n",
        "def csvMake(data: list): #DataFrame\n",
        "  columns = [\"word\", \"pos\", \"mean\"]\n",
        "  df = pd.DataFrame()\n",
        "  for voc in data:\n",
        "    df = df.append([voc.toList()], ignore_index=True)\n",
        "  df.columns=columns\n",
        "  return df\n",
        "\n",
        "def output(data, filename: str): #.csv\n",
        "  data.to_csv(filename)\n",
        "  files.download(filename)\n",
        "\n",
        "def paste(fileList: list): #Dateframe\n",
        "  main = pd.DataFrame()\n",
        "  dfList = []\n",
        "  for filename in fileList:\n",
        "    dfTmp = pd.read_csv(filename, index_col=[0])\n",
        "    dfList.append(dfTmp)\n",
        "  main = pd.concat(dfList, ignore_index=True)\n",
        "  main.sort_values(by=[\"word\", \"pos\"], inplace=True)\n",
        "  main.drop_duplicates(subset=[\"word\", \"pos\"], keep=\"first\", inplace=True)\n",
        "  main.reset_index(drop=True)\n",
        "  return main"
      ]
    },
    {
      "cell_type": "code",
      "execution_count": 5,
      "metadata": {
        "id": "uHtUaF0SPppU"
      },
      "outputs": [],
      "source": [
        "# ToUser Port\n",
        "def randomVoc(number: int, filename: str): #DataFrame\n",
        "  data = pd.read_csv(filename, index_col=[0])\n",
        "  selected = pd.DataFrame()\n",
        "  size = len(data)\n",
        "  for i in range(number):\n",
        "    idx = np.random.randint(0, size-1)\n",
        "    selected = selected.append(data.loc[idx])\n",
        "  return selected\n",
        "\n",
        "def modify(filename: str): #DataFrame\n",
        "  data = pd.read_csv(filename, index_col=[0])\n",
        "  size = len(data)\n",
        "  for idx in range(size):\n",
        "    theVoc = data.loc[idx:idx, \"word\":\"mean\"]\n",
        "    word = theVoc.loc[idx][\"word\"]\n",
        "    Voc(word, theVoc.loc[idx][\"pos\"], theVoc.loc[idx][\"mean\"]).show()\n",
        "    data.loc[idx][\"mean\"] = selection(theVoc.loc[idx][\"mean\"])\n",
        "  return data"
      ]
    },
    {
      "cell_type": "code",
      "source": [
        "output(csvMake(typein()), \"sample.csv\")"
      ],
      "metadata": {
        "id": "0EbErMAcL5Ge"
      },
      "execution_count": null,
      "outputs": []
    }
  ],
  "metadata": {
    "colab": {
      "provenance": []
    },
    "kernelspec": {
      "display_name": "Python 3",
      "name": "python3"
    },
    "language_info": {
      "name": "python"
    }
  },
  "nbformat": 4,
  "nbformat_minor": 0
}