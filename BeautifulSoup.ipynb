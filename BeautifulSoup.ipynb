{
  "nbformat": 4,
  "nbformat_minor": 0,
  "metadata": {
    "colab": {
      "provenance": []
    },
    "kernelspec": {
      "name": "python3",
      "display_name": "Python 3"
    },
    "language_info": {
      "name": "python"
    }
  },
  "cells": [
    {
      "cell_type": "markdown",
      "source": [
        "## $\\text{Get Start}$\n",
        "\n",
        "---\n",
        "\n",
        "用內建 $\\text{pip}$ 工具安裝模組。\n",
        "\n",
        "分別是 $\\text{requests}$ 跟 $\\text{beautifulsoup4}$"
      ],
      "metadata": {
        "id": "MVxdwWL57X8e"
      }
    },
    {
      "cell_type": "code",
      "source": [
        "!pip install requests\n",
        "!pip install beautifulsoup4"
      ],
      "metadata": {
        "colab": {
          "base_uri": "https://localhost:8080/"
        },
        "id": "5toM3R22O2ja",
        "outputId": "8f1cf7d2-11d0-4a8d-c124-acb064d9d549"
      },
      "execution_count": 1,
      "outputs": [
        {
          "output_type": "stream",
          "name": "stdout",
          "text": [
            "Looking in indexes: https://pypi.org/simple, https://us-python.pkg.dev/colab-wheels/public/simple/\n",
            "Requirement already satisfied: requests in /usr/local/lib/python3.9/dist-packages (2.27.1)\n",
            "Requirement already satisfied: urllib3<1.27,>=1.21.1 in /usr/local/lib/python3.9/dist-packages (from requests) (1.26.15)\n",
            "Requirement already satisfied: certifi>=2017.4.17 in /usr/local/lib/python3.9/dist-packages (from requests) (2022.12.7)\n",
            "Requirement already satisfied: charset-normalizer~=2.0.0 in /usr/local/lib/python3.9/dist-packages (from requests) (2.0.12)\n",
            "Requirement already satisfied: idna<4,>=2.5 in /usr/local/lib/python3.9/dist-packages (from requests) (3.4)\n",
            "Looking in indexes: https://pypi.org/simple, https://us-python.pkg.dev/colab-wheels/public/simple/\n",
            "Requirement already satisfied: beautifulsoup4 in /usr/local/lib/python3.9/dist-packages (4.11.2)\n",
            "Requirement already satisfied: soupsieve>1.2 in /usr/local/lib/python3.9/dist-packages (from beautifulsoup4) (2.4.1)\n"
          ]
        }
      ]
    },
    {
      "cell_type": "markdown",
      "source": [
        "匯入上述模組"
      ],
      "metadata": {
        "id": "p-vx4oUNw1K6"
      }
    },
    {
      "cell_type": "code",
      "execution_count": null,
      "metadata": {
        "id": "0sDJPHtHOoRc"
      },
      "outputs": [],
      "source": [
        "import requests\n",
        "from bs4 import BeautifulSoup\n",
        "# 匯入模組"
      ]
    },
    {
      "cell_type": "code",
      "source": [
        "response = requests.get(\"https://www.ptt.cc/bbs/MobileComm/index.html\")\n",
        "\n",
        "soup = BeautifulSoup(response.text, \"html.parser\")\n",
        "# 解譯器 \"html.parser\", \"html5lib\", \"lxml\""
      ],
      "metadata": {
        "id": "lXGvsOLtPZ3g"
      },
      "execution_count": null,
      "outputs": []
    },
    {
      "cell_type": "code",
      "source": [
        "tag = soup.find(\"a\") # 匯入參數\n",
        "tag = soup.a\n",
        "# 找第一個a標籤\n",
        "# 類型 bs4.element.Tag\n",
        "print(soup.find(\"a\", id=\"logo\"))\n",
        "# 找到第一個屬性id為logo的標籤\n",
        "print(tag.name)\n",
        "# 找該標籤名稱\n",
        "print(tag.parent.prettify())\n",
        "# 找該標籤前區塊標籤資訊\n",
        "print(tag.string)\n",
        "print(tag.getText())\n",
        "print(tag.text)\n",
        "# 取得標籤內文本\n",
        "# 類型 bs4.element.NavigableString / str\n",
        "print(tag[\"id\"])\n",
        "print(tag.get(\"href\"))\n",
        "print(tag.get_attribute_list(\"href\")) # 製成串列\n",
        "# 取得標籤內屬性\n",
        "print(tag.attrs)\n",
        "# 找到該標籤的屬性\n",
        "print(tag)\n",
        "tag[\"id\"] = \"changeable\"\n",
        "tag.string = \"PTT實業坊\"\n",
        "print(tag)\n",
        "# 更改標籤內容"
      ],
      "metadata": {
        "id": "_SEWFkoWRISI"
      },
      "execution_count": null,
      "outputs": []
    },
    {
      "cell_type": "code",
      "source": [
        "mulTag = BeautifulSoup('<a class=\"Centain attrs can have multiple values\"></a>', \"lxml\").a # xml解析不會有多重值\n",
        "print(mulTag.get(\"class\"))\n",
        "# 有些屬性可以有多個值\n",
        "# 屬性包含class, rel, rev\n",
        "mulTag[\"class\"] = [\"Reset\", \"it\"]\n",
        "print(mulTag.get(\"class\"))"
      ],
      "metadata": {
        "id": "iVMPJu6wZMws"
      },
      "execution_count": null,
      "outputs": []
    },
    {
      "cell_type": "code",
      "source": [
        "data = soup.find_all(\"link\")\n",
        "# 找所有link標籤整合成串列\n",
        "for content in data:\n",
        "    print(content)\n",
        "    print(content[\"href\"])\n",
        "    print(content.get(\"type\"))"
      ],
      "metadata": {
        "id": "37PVUrEa7Bs-"
      },
      "execution_count": null,
      "outputs": []
    },
    {
      "cell_type": "code",
      "source": [
        "iniTag1 = BeautifulSoup('<div id=\"hello\">ToBeReplaced</div>', \"xml\")\n",
        "iniTag2 = BeautifulSoup('<div id=\"hello\">ToBeReplaced</div>', \"xml\")\n",
        "iniTag3 = BeautifulSoup('<div id=\"hello\">ToBeReplaced</div>', \"xml\")\n",
        "repTag1 = BeautifulSoup('<a>Replacement Done</a>', \"xml\")\n",
        "repTag2 = BeautifulSoup('<a>Replacement Done</a>', \"xml\")\n",
        "repTag3 = BeautifulSoup('<a>Replacement Done</a>', \"xml\")\n",
        "print(iniTag1)\n",
        "iniTag1.find(\"div\").replace_with(repTag1)\n",
        "print(iniTag1)\n",
        "# 將div「標籤」取代為目標標籤\n",
        "iniTag2.find(text=\"ToBeReplaced\").replace_with(repTag2)\n",
        "print(iniTag2)\n",
        "# 將標籤「文本」取代取代為目標標籤\n",
        "iniTag3.find(id=\"hello\").replace_with(repTag3)\n",
        "print(iniTag3)\n",
        "# 將屬性符合之「標籤」取代取代為目標標籤\n",
        "print(repTag1)\n",
        "print(repTag2)\n",
        "print(repTag3)\n",
        "# 之後就清空標籤"
      ],
      "metadata": {
        "colab": {
          "base_uri": "https://localhost:8080/"
        },
        "id": "jNtBYmAOSL2Q",
        "outputId": "4b2c32c5-be7b-469d-a243-98236a7bb936"
      },
      "execution_count": null,
      "outputs": [
        {
          "output_type": "stream",
          "name": "stdout",
          "text": [
            "<?xml version=\"1.0\" encoding=\"utf-8\"?>\n",
            "<div id=\"hello\">ToBeReplaced</div>\n",
            "<?xml version=\"1.0\" encoding=\"utf-8\"?>\n",
            "<a>Replacement Done</a>\n",
            "<?xml version=\"1.0\" encoding=\"utf-8\"?>\n",
            "<div id=\"hello\"><a>Replacement Done</a></div>\n",
            "<?xml version=\"1.0\" encoding=\"utf-8\"?>\n",
            "<a>Replacement Done</a>\n",
            "<?xml version=\"1.0\" encoding=\"utf-8\"?>\n",
            "\n",
            "<?xml version=\"1.0\" encoding=\"utf-8\"?>\n",
            "\n",
            "<?xml version=\"1.0\" encoding=\"utf-8\"?>\n",
            "\n"
          ]
        }
      ]
    },
    {
      "cell_type": "code",
      "source": [],
      "metadata": {
        "id": "pXKHwpB5lC5A"
      },
      "execution_count": null,
      "outputs": []
    }
  ]
}