{
  "nbformat": 4,
  "nbformat_minor": 0,
  "metadata": {
    "colab": {
      "provenance": []
    },
    "kernelspec": {
      "name": "python3",
      "display_name": "Python 3"
    },
    "language_info": {
      "name": "python"
    }
  },
  "cells": [
    {
      "cell_type": "code",
      "source": [
        "!pip install beautifulsoup4\n",
        "!pip install requests\n",
        "# 用 pip 下載外掛模組"
      ],
      "metadata": {
        "colab": {
          "base_uri": "https://localhost:8080/"
        },
        "id": "5toM3R22O2ja",
        "outputId": "cd57840f-b3d0-443e-a433-0d112cc2cd34"
      },
      "execution_count": 7,
      "outputs": [
        {
          "output_type": "stream",
          "name": "stdout",
          "text": [
            "Looking in indexes: https://pypi.org/simple, https://us-python.pkg.dev/colab-wheels/public/simple/\n",
            "Requirement already satisfied: beautifulsoup4 in /usr/local/lib/python3.10/dist-packages (4.11.2)\n",
            "Requirement already satisfied: soupsieve>1.2 in /usr/local/lib/python3.10/dist-packages (from beautifulsoup4) (2.4.1)\n",
            "Looking in indexes: https://pypi.org/simple, https://us-python.pkg.dev/colab-wheels/public/simple/\n",
            "Requirement already satisfied: requests in /usr/local/lib/python3.10/dist-packages (2.27.1)\n",
            "Requirement already satisfied: urllib3<1.27,>=1.21.1 in /usr/local/lib/python3.10/dist-packages (from requests) (1.26.15)\n",
            "Requirement already satisfied: certifi>=2017.4.17 in /usr/local/lib/python3.10/dist-packages (from requests) (2022.12.7)\n",
            "Requirement already satisfied: charset-normalizer~=2.0.0 in /usr/local/lib/python3.10/dist-packages (from requests) (2.0.12)\n",
            "Requirement already satisfied: idna<4,>=2.5 in /usr/local/lib/python3.10/dist-packages (from requests) (3.4)\n"
          ]
        }
      ]
    },
    {
      "cell_type": "code",
      "execution_count": 8,
      "metadata": {
        "id": "0sDJPHtHOoRc"
      },
      "outputs": [],
      "source": [
        "import requests\n",
        "from bs4 import BeautifulSoup\n",
        "# 匯入模組"
      ]
    },
    {
      "cell_type": "code",
      "source": [
        "response = requests.get(\"https://www.ptt.cc/bbs/MobileComm/index.html\")\n",
        "\n",
        "soup = BeautifulSoup(response.text, \"html.parser\")\n",
        "# 解譯器 \"html.parser\", \"html5lib\", \"lxml\""
      ],
      "metadata": {
        "id": "lXGvsOLtPZ3g"
      },
      "execution_count": 25,
      "outputs": []
    },
    {
      "cell_type": "code",
      "source": [
        "print(\"-----標籤查找-----\")\n",
        "tag = soup.find(\"a\") # 匯入參數\n",
        "tag = soup.a\n",
        "# 找第一個a標籤\n",
        "# 類型 bs4.element.Tag\n",
        "print(soup.find(\"a\", id=\"logo\"))\n",
        "# 找到第一個屬性id為logo的標籤\n",
        "print(\"\\n-----標籤類型-----\")\n",
        "print(tag.name)\n",
        "# 找該標籤名稱\n",
        "print(\"\\n-----標籤前區塊-----\")\n",
        "print(tag.parent.prettify())\n",
        "# 找該標籤前區塊標籤資訊\n",
        "print(\"\\n-----標籤內文本-----\")\n",
        "print(tag.string)\n",
        "print(tag.getText())\n",
        "print(tag.text)\n",
        "# 取得標籤內文本\n",
        "# 類型 bs4.element.NavigableString / str\n",
        "print(\"\\n-----檢視標籤內單屬性-----\")\n",
        "print(tag[\"id\"])\n",
        "print(tag.get(\"href\"))\n",
        "print(tag.get_attribute_list(\"href\")) # 製成串列\n",
        "# 取得標籤內屬性\n",
        "print(\"\\n-----檢視標籤內所有屬性-----\")\n",
        "print(tag.attrs)\n",
        "# 找到該標籤的屬性\n",
        "print(tag)\n",
        "print(\"\\n-----變更標籤內容-----\")\n",
        "tag[\"id\"] = \"changeable\"\n",
        "tag.string = \"PTT實業坊\"\n",
        "print(tag)\n",
        "# 更改標籤內容"
      ],
      "metadata": {
        "id": "_SEWFkoWRISI",
        "colab": {
          "base_uri": "https://localhost:8080/"
        },
        "outputId": "9dd442d2-659c-49be-e78a-1a3fd0951547"
      },
      "execution_count": 26,
      "outputs": [
        {
          "output_type": "stream",
          "name": "stdout",
          "text": [
            "-----標籤查找-----\n",
            "<a href=\"/bbs/\" id=\"logo\">批踢踢實業坊</a>\n",
            "\n",
            "-----標籤類型-----\n",
            "a\n",
            "\n",
            "-----標籤前區塊-----\n",
            "<div class=\"bbs-content\" id=\"topbar\">\n",
            " <a href=\"/bbs/\" id=\"logo\">\n",
            "  批踢踢實業坊\n",
            " </a>\n",
            " <span>\n",
            "  ›\n",
            " </span>\n",
            " <a class=\"board\" href=\"/bbs/MobileComm/index.html\">\n",
            "  <span class=\"board-label\">\n",
            "   看板\n",
            "  </span>\n",
            "  MobileComm\n",
            " </a>\n",
            " <a class=\"right small\" href=\"/about.html\">\n",
            "  關於我們\n",
            " </a>\n",
            " <a class=\"right small\" href=\"/contact.html\">\n",
            "  聯絡資訊\n",
            " </a>\n",
            "</div>\n",
            "\n",
            "\n",
            "-----標籤內文本-----\n",
            "批踢踢實業坊\n",
            "批踢踢實業坊\n",
            "批踢踢實業坊\n",
            "\n",
            "-----檢視標籤內單屬性-----\n",
            "logo\n",
            "/bbs/\n",
            "['/bbs/']\n",
            "\n",
            "-----檢視標籤內所有屬性-----\n",
            "{'id': 'logo', 'href': '/bbs/'}\n",
            "<a href=\"/bbs/\" id=\"logo\">批踢踢實業坊</a>\n",
            "\n",
            "-----變更標籤內容-----\n",
            "<a href=\"/bbs/\" id=\"changeable\">PTT實業坊</a>\n"
          ]
        }
      ]
    },
    {
      "cell_type": "code",
      "source": [
        "mulTag = BeautifulSoup('<a class=\"Centain attrs can have multiple values\"></a>', \"lxml\").a # xml解析不會有多重值\n",
        "print(mulTag.get(\"class\"))\n",
        "# 有些屬性可以有多個值\n",
        "# 屬性包含class, rel, rev\n",
        "mulTag[\"class\"] = [\"Reset\", \"it\"]\n",
        "print(mulTag.get(\"class\"))"
      ],
      "metadata": {
        "colab": {
          "base_uri": "https://localhost:8080/"
        },
        "id": "iVMPJu6wZMws",
        "outputId": "ca97c283-f0b0-4140-c591-16fa6c084fca"
      },
      "execution_count": 11,
      "outputs": [
        {
          "output_type": "stream",
          "name": "stdout",
          "text": [
            "['Centain', 'attrs', 'can', 'have', 'multiple', 'values']\n",
            "['Reset', 'it']\n"
          ]
        }
      ]
    },
    {
      "cell_type": "code",
      "source": [
        "data = soup.find_all(\"link\")\n",
        "# 找所有link標籤整合成串列\n",
        "for content in data:\n",
        "    print(content)\n",
        "    print(content[\"href\"])\n",
        "    print(content.get(\"type\"))"
      ],
      "metadata": {
        "colab": {
          "base_uri": "https://localhost:8080/"
        },
        "id": "37PVUrEa7Bs-",
        "outputId": "f775eb97-10fd-4609-fdbb-82f272d61f6a"
      },
      "execution_count": 12,
      "outputs": [
        {
          "output_type": "stream",
          "name": "stdout",
          "text": [
            "<link href=\"//images.ptt.cc/bbs/v2.27/bbs-common.css\" rel=\"stylesheet\" type=\"text/css\"/>\n",
            "//images.ptt.cc/bbs/v2.27/bbs-common.css\n",
            "text/css\n",
            "<link href=\"//images.ptt.cc/bbs/v2.27/bbs-base.css\" media=\"screen\" rel=\"stylesheet\" type=\"text/css\"/>\n",
            "//images.ptt.cc/bbs/v2.27/bbs-base.css\n",
            "text/css\n",
            "<link href=\"//images.ptt.cc/bbs/v2.27/bbs-custom.css\" rel=\"stylesheet\" type=\"text/css\"/>\n",
            "//images.ptt.cc/bbs/v2.27/bbs-custom.css\n",
            "text/css\n",
            "<link href=\"//images.ptt.cc/bbs/v2.27/pushstream.css\" media=\"screen\" rel=\"stylesheet\" type=\"text/css\"/>\n",
            "//images.ptt.cc/bbs/v2.27/pushstream.css\n",
            "text/css\n",
            "<link href=\"//images.ptt.cc/bbs/v2.27/bbs-print.css\" media=\"print\" rel=\"stylesheet\" type=\"text/css\"/>\n",
            "//images.ptt.cc/bbs/v2.27/bbs-print.css\n",
            "text/css\n"
          ]
        }
      ]
    },
    {
      "cell_type": "code",
      "source": [
        "iniTag1 = BeautifulSoup('<div id=\"hello\">ToBeReplaced</div>', \"xml\")\n",
        "iniTag2 = BeautifulSoup('<div id=\"hello\">ToBeReplaced</div>', \"xml\")\n",
        "iniTag3 = BeautifulSoup('<div id=\"hello\">ToBeReplaced</div>', \"xml\")\n",
        "repTag1 = BeautifulSoup('<a>Replacement Done</a>', \"xml\")\n",
        "repTag2 = BeautifulSoup('<a>Replacement Done</a>', \"xml\")\n",
        "repTag3 = BeautifulSoup('<a>Replacement Done</a>', \"xml\")\n",
        "print(iniTag1)\n",
        "iniTag1.find(\"div\").replace_with(repTag1)\n",
        "print(iniTag1)\n",
        "# 將div「標籤」取代為目標標籤\n",
        "iniTag2.find(text=\"ToBeReplaced\").replace_with(repTag2)\n",
        "print(iniTag2)\n",
        "# 將標籤「文本」取代取代為目標標籤\n",
        "iniTag3.find(id=\"hello\").replace_with(repTag3)\n",
        "print(iniTag3)\n",
        "# 將屬性符合之「標籤」取代取代為目標標籤\n",
        "print(repTag1)\n",
        "print(repTag2)\n",
        "print(repTag3)\n",
        "# 之後就清空標籤"
      ],
      "metadata": {
        "colab": {
          "base_uri": "https://localhost:8080/"
        },
        "id": "jNtBYmAOSL2Q",
        "outputId": "747d43ec-e399-4037-fa8e-794767ace05f"
      },
      "execution_count": 13,
      "outputs": [
        {
          "output_type": "stream",
          "name": "stdout",
          "text": [
            "<?xml version=\"1.0\" encoding=\"utf-8\"?>\n",
            "<div id=\"hello\">ToBeReplaced</div>\n",
            "<?xml version=\"1.0\" encoding=\"utf-8\"?>\n",
            "<a>Replacement Done</a>\n",
            "<?xml version=\"1.0\" encoding=\"utf-8\"?>\n",
            "<div id=\"hello\"><a>Replacement Done</a></div>\n",
            "<?xml version=\"1.0\" encoding=\"utf-8\"?>\n",
            "<a>Replacement Done</a>\n",
            "<?xml version=\"1.0\" encoding=\"utf-8\"?>\n",
            "\n",
            "<?xml version=\"1.0\" encoding=\"utf-8\"?>\n",
            "\n",
            "<?xml version=\"1.0\" encoding=\"utf-8\"?>\n",
            "\n"
          ]
        },
        {
          "output_type": "stream",
          "name": "stderr",
          "text": [
            "<ipython-input-13-c98eabcbd4ab>:11: DeprecationWarning: The 'text' argument to find()-type methods is deprecated. Use 'string' instead.\n",
            "  iniTag2.find(text=\"ToBeReplaced\").replace_with(repTag2)\n"
          ]
        }
      ]
    }
  ]
}